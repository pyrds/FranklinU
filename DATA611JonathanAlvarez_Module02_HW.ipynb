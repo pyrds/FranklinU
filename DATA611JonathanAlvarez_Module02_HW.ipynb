{
  "nbformat": 4,
  "nbformat_minor": 0,
  "metadata": {
    "kernelspec": {
      "display_name": "Python 3",
      "language": "python",
      "name": "python3"
    },
    "language_info": {
      "codemirror_mode": {
        "name": "ipython",
        "version": 3
      },
      "file_extension": ".py",
      "mimetype": "text/x-python",
      "name": "python",
      "nbconvert_exporter": "python",
      "pygments_lexer": "ipython3",
      "version": "3.7.3"
    },
    "toc": {
      "base_numbering": 1,
      "nav_menu": {},
      "number_sections": true,
      "sideBar": true,
      "skip_h1_title": false,
      "title_cell": "Table of Contents",
      "title_sidebar": "Contents",
      "toc_cell": false,
      "toc_position": {},
      "toc_section_display": true,
      "toc_window_display": false
    },
    "colab": {
      "provenance": []
    }
  },
  "cells": [
    {
      "cell_type": "markdown",
      "metadata": {
        "id": "5HBT_V7mkoey"
      },
      "source": [
        "# Homework Week 2\n",
        "\n",
        "1. Explain features and targets.\n",
        "2. What is the difference between the supervised learning and unsupervised learning?\n",
        "3. What is the difference between the classification and regression? Define a specific classification problem and a regression problem that you may be interested in.\n",
        "4. Describe the roadmap of building a machine learning system.\n",
        "5. In the iris data set, explain what are $x^{(3)}$, $x_3$, and $x^{(3)}_3$?\n",
        "6. Let **w** and **x** be vectors, \n",
        "\n",
        "$$\n",
        "\\textbf{w} = \\begin{bmatrix}\n",
        "1 \\\\\n",
        "3 \\\\\n",
        "-1 \\\\\n",
        "\\end{bmatrix}\n",
        "$$\n",
        "\n",
        "$$\n",
        "\\textbf{x} = \\begin{bmatrix}\n",
        "2 \\\\\n",
        "3 \\\\\n",
        "4 \\\\\n",
        "\\end{bmatrix}\n",
        "$$\n",
        "\n",
        "What is $\\textbf{w}^{T}\\textbf{x}$? \n",
        "\n",
        "7. Using Numpy create and print **w** and **x** in #7; calculate the $\\textbf{w}^{T}\\textbf{x}$ to check your previous answer.\n"
      ]
    },
    {
      "cell_type": "markdown",
      "source": [
        "1. Features is a characteristic of a data observation which is sometimes in a column. For example, if one observation/row represents a flower then a feature of that data point could be a petal width.  \n",
        "\n",
        "  Targets are a class/label or category of an observation. This class or label is typically used in a supervised learning model to train a model. "
      ],
      "metadata": {
        "id": "sHQPoCF2H7sC"
      }
    },
    {
      "cell_type": "markdown",
      "source": [
        "2. Supervised learning uses data that is labeled to build a predictive model. That model then uses newly un-labeled to predict the label. \n",
        "Unsupervised learning does not used labeled data and the target label is unknown. Thus, this type of learning is meant to extract trends, patterns and/or outliers. "
      ],
      "metadata": {
        "id": "O1hTrlmnL9GE"
      }
    },
    {
      "cell_type": "markdown",
      "source": [
        "3. The difference between a classification and regression algorithim is that a classification algorithim is discrete. For example a classification can be binary (or multi-class) such as is this picture a cat or a dog. Another example would be predicting whether a credit card applicant will be approved or not based on the applicants data. \n",
        "\n",
        "  A regression algorithm is continuous. For example, predicting a price, money or quantity of the housing market based on market housing data. "
      ],
      "metadata": {
        "id": "ryq1izGsO45s"
      }
    },
    {
      "cell_type": "markdown",
      "source": [
        "4. The first step is always pre-processing data. A lot of this requires labeling, cleansing and preparing data to be fed and input into a machine learning model. \n",
        "   The next steps is goint to be building the learning process. This includes understanding the algorithm (x,y,z variables) as well as building metrics for which models perform the best. \n",
        "   The third step is to evaluate which model will be selected. This will be done through model metrics and accuracies. \n",
        "   The final step is then predict using new data. This is where the model makes a prediction using unseen data (also known as test data). "
      ],
      "metadata": {
        "id": "7Yo4Il6vO5Fh"
      }
    },
    {
      "cell_type": "markdown",
      "source": [
        "5. $x^{(3)}$ signifies only the third row (observation) in the data set. \n",
        "   $x_3$ signifies the third column in the data set (Petal Length) using all rows (observations).\n",
        "   $x^{(3)}_3$ signifies the third column (Petal Length) using only the third observation."
      ],
      "metadata": {
        "id": "JqOZ2w7JYk4X"
      }
    },
    {
      "cell_type": "markdown",
      "source": [
        "6. $\\textbf{w}^{T}\\textbf{x}$ means transposing vector w and then  multipying that by vector x"
      ],
      "metadata": {
        "id": "jDM16724ZPhK"
      }
    },
    {
      "cell_type": "code",
      "source": [
        "#7\n",
        "import numpy as np\n",
        "w = np.array([[1,3,-1]])\n",
        "x = np.array([[2,3,4]])\n",
        "\n",
        "# Transpose w single dimensional array before multiplying with x array\n",
        "w.T@x"
      ],
      "metadata": {
        "colab": {
          "base_uri": "https://localhost:8080/"
        },
        "id": "M4Lk7qr4ZyMx",
        "outputId": "0ddaba78-def1-4e58-b527-ca103736626d"
      },
      "execution_count": 12,
      "outputs": [
        {
          "output_type": "execute_result",
          "data": {
            "text/plain": [
              "array([[ 2,  3,  4],\n",
              "       [ 6,  9, 12],\n",
              "       [-2, -3, -4]])"
            ]
          },
          "metadata": {},
          "execution_count": 12
        }
      ]
    }
  ]
}